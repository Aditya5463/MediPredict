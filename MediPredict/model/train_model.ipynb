{
 "cells": [
  {
   "cell_type": "code",
   "execution_count": 3,
   "id": "3a3d4d99-da7a-4f9a-9f1a-06a75bcdf3d1",
   "metadata": {},
   "outputs": [
    {
     "name": "stdout",
     "output_type": "stream",
     "text": [
      "✅ Model trained with accuracy: 0.39\n",
      "✅ Model saved as model/model.pkl\n"
     ]
    }
   ],
   "source": [
    "import pandas as pd\n",
    "import numpy as np\n",
    "from sklearn.ensemble import RandomForestClassifier\n",
    "from sklearn.model_selection import train_test_split\n",
    "from sklearn.metrics import accuracy_score\n",
    "import pickle\n",
    "import os\n",
    "\n",
    "# 🔹 Step 1: Create synthetic healthcare dataset\n",
    "# Replace this with real data if available\n",
    "np.random.seed(42)\n",
    "data = pd.DataFrame({\n",
    "    'age': np.random.randint(20, 70, 1000),\n",
    "    'bmi': np.random.uniform(18, 35, 1000),\n",
    "    'bp': np.random.randint(90, 160, 1000),\n",
    "    'heart_rate': np.random.randint(60, 120, 1000),\n",
    "    'smoking': np.random.randint(0, 2, 1000),\n",
    "    'alcohol': np.random.randint(0, 2, 1000),\n",
    "    'diabetes': np.random.randint(0, 2, 1000),\n",
    "    'risk': np.random.choice(['Low', 'Medium', 'High'], 1000)\n",
    "})\n",
    "\n",
    "# 🔹 Step 2: Encode target variable\n",
    "data['risk'] = data['risk'].map({'Low': 0, 'Medium': 1, 'High': 2})\n",
    "\n",
    "# 🔹 Step 3: Split into features and target\n",
    "X = data[['age', 'bmi', 'bp', 'heart_rate', 'smoking', 'alcohol', 'diabetes']]\n",
    "y = data['risk']\n",
    "\n",
    "# 🔹 Step 4: Train/test split\n",
    "X_train, X_test, y_train, y_test = train_test_split(X, y, test_size=0.2, random_state=42)\n",
    "\n",
    "# 🔹 Step 5: Train model\n",
    "model = RandomForestClassifier(n_estimators=100, random_state=42)\n",
    "model.fit(X_train, y_train)\n",
    "\n",
    "# 🔹 Step 6: Evaluate model\n",
    "y_pred = model.predict(X_test)\n",
    "accuracy = accuracy_score(y_test, y_pred)\n",
    "print(f\"✅ Model trained with accuracy: {accuracy:.2f}\")\n",
    "\n",
    "# 🔹 Step 7: Save model\n",
    "os.makedirs('model', exist_ok=True)\n",
    "with open('model.pkl', 'wb') as f:\n",
    "    pickle.dump(model, f)\n",
    "\n",
    "print(\"✅ Model saved as model/model.pkl\")"
   ]
  },
  {
   "cell_type": "code",
   "execution_count": null,
   "id": "00d2a120-f93c-4187-bdae-95aed7ba9fef",
   "metadata": {},
   "outputs": [],
   "source": []
  }
 ],
 "metadata": {
  "kernelspec": {
   "display_name": "Python 3 (ipykernel)",
   "language": "python",
   "name": "python3"
  },
  "language_info": {
   "codemirror_mode": {
    "name": "ipython",
    "version": 3
   },
   "file_extension": ".py",
   "mimetype": "text/x-python",
   "name": "python",
   "nbconvert_exporter": "python",
   "pygments_lexer": "ipython3",
   "version": "3.13.5"
  }
 },
 "nbformat": 4,
 "nbformat_minor": 5
}
